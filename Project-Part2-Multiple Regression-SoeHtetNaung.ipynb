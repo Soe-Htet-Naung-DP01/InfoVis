{
 "cells": [
  {
   "cell_type": "markdown",
   "metadata": {},
   "source": [
    "# First Name: Soe Htet\n",
    "# Last Name: Naung"
   ]
  },
  {
   "cell_type": "markdown",
   "metadata": {},
   "source": [
    "# Import Libraries  "
   ]
  },
  {
   "cell_type": "code",
   "execution_count": 38,
   "metadata": {},
   "outputs": [],
   "source": [
    "import pandas as pd\n",
    "import numpy as np\n",
    "import seaborn as sns\n",
    "import matplotlib.pyplot as plt\n",
    "import statsmodels.formula.api as smf\n",
    "import scipy"
   ]
  },
  {
   "cell_type": "markdown",
   "metadata": {},
   "source": [
    "# Import Data"
   ]
  },
  {
   "cell_type": "code",
   "execution_count": 39,
   "metadata": {},
   "outputs": [
    {
     "data": {
      "text/html": [
       "<div>\n",
       "<style scoped>\n",
       "    .dataframe tbody tr th:only-of-type {\n",
       "        vertical-align: middle;\n",
       "    }\n",
       "\n",
       "    .dataframe tbody tr th {\n",
       "        vertical-align: top;\n",
       "    }\n",
       "\n",
       "    .dataframe thead th {\n",
       "        text-align: right;\n",
       "    }\n",
       "</style>\n",
       "<table border=\"1\" class=\"dataframe\">\n",
       "  <thead>\n",
       "    <tr style=\"text-align: right;\">\n",
       "      <th></th>\n",
       "      <th>ID</th>\n",
       "      <th>city</th>\n",
       "      <th>year</th>\n",
       "      <th>weekofyear</th>\n",
       "      <th>week_start_date</th>\n",
       "      <th>ndvi_ne</th>\n",
       "      <th>ndvi_nw</th>\n",
       "      <th>ndvi_se</th>\n",
       "      <th>ndvi_sw</th>\n",
       "      <th>precipitation_amt_mm</th>\n",
       "      <th>...</th>\n",
       "      <th>reanalysis_relative_humidity_percent</th>\n",
       "      <th>reanalysis_sat_precip_amt_mm</th>\n",
       "      <th>reanalysis_specific_humidity_g_per_kg</th>\n",
       "      <th>reanalysis_tdtr_k</th>\n",
       "      <th>station_avg_temp_c</th>\n",
       "      <th>station_diur_temp_rng_c</th>\n",
       "      <th>station_max_temp_c</th>\n",
       "      <th>station_min_temp_c</th>\n",
       "      <th>station_precip_mm</th>\n",
       "      <th>total_cases</th>\n",
       "    </tr>\n",
       "  </thead>\n",
       "  <tbody>\n",
       "    <tr>\n",
       "      <th>0</th>\n",
       "      <td>1</td>\n",
       "      <td>sj</td>\n",
       "      <td>1990</td>\n",
       "      <td>18</td>\n",
       "      <td>30/04/1990</td>\n",
       "      <td>0.12</td>\n",
       "      <td>0.10</td>\n",
       "      <td>0.20</td>\n",
       "      <td>0.18</td>\n",
       "      <td>12.42</td>\n",
       "      <td>...</td>\n",
       "      <td>73.37</td>\n",
       "      <td>12.42</td>\n",
       "      <td>14.01</td>\n",
       "      <td>2.63</td>\n",
       "      <td>25.44</td>\n",
       "      <td>6.90</td>\n",
       "      <td>29.40</td>\n",
       "      <td>20.00</td>\n",
       "      <td>16.00</td>\n",
       "      <td>4</td>\n",
       "    </tr>\n",
       "    <tr>\n",
       "      <th>1</th>\n",
       "      <td>2</td>\n",
       "      <td>sj</td>\n",
       "      <td>1990</td>\n",
       "      <td>19</td>\n",
       "      <td>7/05/1990</td>\n",
       "      <td>0.17</td>\n",
       "      <td>0.14</td>\n",
       "      <td>0.16</td>\n",
       "      <td>0.16</td>\n",
       "      <td>22.82</td>\n",
       "      <td>...</td>\n",
       "      <td>77.37</td>\n",
       "      <td>22.82</td>\n",
       "      <td>15.37</td>\n",
       "      <td>2.37</td>\n",
       "      <td>26.71</td>\n",
       "      <td>6.37</td>\n",
       "      <td>31.70</td>\n",
       "      <td>22.20</td>\n",
       "      <td>8.60</td>\n",
       "      <td>5</td>\n",
       "    </tr>\n",
       "    <tr>\n",
       "      <th>2</th>\n",
       "      <td>3</td>\n",
       "      <td>sj</td>\n",
       "      <td>1990</td>\n",
       "      <td>20</td>\n",
       "      <td>14/05/1990</td>\n",
       "      <td>0.03</td>\n",
       "      <td>0.17</td>\n",
       "      <td>0.16</td>\n",
       "      <td>0.17</td>\n",
       "      <td>34.54</td>\n",
       "      <td>...</td>\n",
       "      <td>82.05</td>\n",
       "      <td>34.54</td>\n",
       "      <td>16.85</td>\n",
       "      <td>2.30</td>\n",
       "      <td>26.71</td>\n",
       "      <td>6.49</td>\n",
       "      <td>32.20</td>\n",
       "      <td>22.80</td>\n",
       "      <td>41.40</td>\n",
       "      <td>4</td>\n",
       "    </tr>\n",
       "    <tr>\n",
       "      <th>3</th>\n",
       "      <td>4</td>\n",
       "      <td>sj</td>\n",
       "      <td>1990</td>\n",
       "      <td>21</td>\n",
       "      <td>21/05/1990</td>\n",
       "      <td>0.13</td>\n",
       "      <td>0.25</td>\n",
       "      <td>0.23</td>\n",
       "      <td>0.24</td>\n",
       "      <td>15.36</td>\n",
       "      <td>...</td>\n",
       "      <td>80.34</td>\n",
       "      <td>15.36</td>\n",
       "      <td>16.67</td>\n",
       "      <td>2.43</td>\n",
       "      <td>27.47</td>\n",
       "      <td>6.77</td>\n",
       "      <td>33.30</td>\n",
       "      <td>23.30</td>\n",
       "      <td>4.00</td>\n",
       "      <td>3</td>\n",
       "    </tr>\n",
       "    <tr>\n",
       "      <th>4</th>\n",
       "      <td>5</td>\n",
       "      <td>sj</td>\n",
       "      <td>1990</td>\n",
       "      <td>22</td>\n",
       "      <td>28/05/1990</td>\n",
       "      <td>0.20</td>\n",
       "      <td>0.26</td>\n",
       "      <td>0.25</td>\n",
       "      <td>0.25</td>\n",
       "      <td>7.52</td>\n",
       "      <td>...</td>\n",
       "      <td>80.46</td>\n",
       "      <td>7.52</td>\n",
       "      <td>17.21</td>\n",
       "      <td>3.01</td>\n",
       "      <td>28.94</td>\n",
       "      <td>9.37</td>\n",
       "      <td>35.00</td>\n",
       "      <td>23.90</td>\n",
       "      <td>5.80</td>\n",
       "      <td>6</td>\n",
       "    </tr>\n",
       "  </tbody>\n",
       "</table>\n",
       "<p>5 rows × 26 columns</p>\n",
       "</div>"
      ],
      "text/plain": [
       "   ID city  year  weekofyear week_start_date  ndvi_ne  ndvi_nw  ndvi_se  \\\n",
       "0   1   sj  1990          18      30/04/1990     0.12     0.10     0.20   \n",
       "1   2   sj  1990          19       7/05/1990     0.17     0.14     0.16   \n",
       "2   3   sj  1990          20      14/05/1990     0.03     0.17     0.16   \n",
       "3   4   sj  1990          21      21/05/1990     0.13     0.25     0.23   \n",
       "4   5   sj  1990          22      28/05/1990     0.20     0.26     0.25   \n",
       "\n",
       "   ndvi_sw  precipitation_amt_mm  ...  reanalysis_relative_humidity_percent  \\\n",
       "0     0.18                 12.42  ...                                 73.37   \n",
       "1     0.16                 22.82  ...                                 77.37   \n",
       "2     0.17                 34.54  ...                                 82.05   \n",
       "3     0.24                 15.36  ...                                 80.34   \n",
       "4     0.25                  7.52  ...                                 80.46   \n",
       "\n",
       "   reanalysis_sat_precip_amt_mm  reanalysis_specific_humidity_g_per_kg  \\\n",
       "0                         12.42                                  14.01   \n",
       "1                         22.82                                  15.37   \n",
       "2                         34.54                                  16.85   \n",
       "3                         15.36                                  16.67   \n",
       "4                          7.52                                  17.21   \n",
       "\n",
       "   reanalysis_tdtr_k  station_avg_temp_c  station_diur_temp_rng_c  \\\n",
       "0               2.63               25.44                     6.90   \n",
       "1               2.37               26.71                     6.37   \n",
       "2               2.30               26.71                     6.49   \n",
       "3               2.43               27.47                     6.77   \n",
       "4               3.01               28.94                     9.37   \n",
       "\n",
       "   station_max_temp_c  station_min_temp_c  station_precip_mm  total_cases  \n",
       "0               29.40               20.00              16.00            4  \n",
       "1               31.70               22.20               8.60            5  \n",
       "2               32.20               22.80              41.40            4  \n",
       "3               33.30               23.30               4.00            3  \n",
       "4               35.00               23.90               5.80            6  \n",
       "\n",
       "[5 rows x 26 columns]"
      ]
     },
     "execution_count": 39,
     "metadata": {},
     "output_type": "execute_result"
    }
   ],
   "source": [
    "pd.set_option('display.float_format', lambda x:'%.2f'%x)\n",
    "Dengue = pd.read_csv('Dengue.csv', low_memory=False) #increase efficiency\n",
    "Dengue.head()"
   ]
  },
  {
   "cell_type": "markdown",
   "metadata": {},
   "source": [
    "# Data management "
   ]
  },
  {
   "cell_type": "code",
   "execution_count": 40,
   "metadata": {
    "scrolled": true
   },
   "outputs": [],
   "source": [
    "#convert variables to numeric\n",
    "Dengue['precipitation_amt_mm'] = pd.to_numeric(Dengue['precipitation_amt_mm'],errors='coerce')\n",
    "Dengue['reanalysis_relative_humidity_percent'] = pd.to_numeric(Dengue['reanalysis_relative_humidity_percent'],errors='coerce')\n",
    "Dengue['total_cases_c'] = pd.to_numeric(Dengue['total_cases'],errors='coerce')"
   ]
  },
  {
   "cell_type": "code",
   "execution_count": 41,
   "metadata": {},
   "outputs": [
    {
     "data": {
      "text/html": [
       "<div>\n",
       "<style scoped>\n",
       "    .dataframe tbody tr th:only-of-type {\n",
       "        vertical-align: middle;\n",
       "    }\n",
       "\n",
       "    .dataframe tbody tr th {\n",
       "        vertical-align: top;\n",
       "    }\n",
       "\n",
       "    .dataframe thead th {\n",
       "        text-align: right;\n",
       "    }\n",
       "</style>\n",
       "<table border=\"1\" class=\"dataframe\">\n",
       "  <thead>\n",
       "    <tr style=\"text-align: right;\">\n",
       "      <th></th>\n",
       "      <th>precipitation_amt_mm</th>\n",
       "      <th>reanalysis_relative_humidity_percent</th>\n",
       "      <th>total_cases</th>\n",
       "    </tr>\n",
       "  </thead>\n",
       "  <tbody>\n",
       "    <tr>\n",
       "      <th>0</th>\n",
       "      <td>12.42</td>\n",
       "      <td>73.37</td>\n",
       "      <td>4</td>\n",
       "    </tr>\n",
       "    <tr>\n",
       "      <th>1</th>\n",
       "      <td>22.82</td>\n",
       "      <td>77.37</td>\n",
       "      <td>5</td>\n",
       "    </tr>\n",
       "    <tr>\n",
       "      <th>2</th>\n",
       "      <td>34.54</td>\n",
       "      <td>82.05</td>\n",
       "      <td>4</td>\n",
       "    </tr>\n",
       "    <tr>\n",
       "      <th>3</th>\n",
       "      <td>15.36</td>\n",
       "      <td>80.34</td>\n",
       "      <td>3</td>\n",
       "    </tr>\n",
       "    <tr>\n",
       "      <th>4</th>\n",
       "      <td>7.52</td>\n",
       "      <td>80.46</td>\n",
       "      <td>6</td>\n",
       "    </tr>\n",
       "  </tbody>\n",
       "</table>\n",
       "</div>"
      ],
      "text/plain": [
       "   precipitation_amt_mm  reanalysis_relative_humidity_percent  total_cases\n",
       "0                 12.42                                 73.37            4\n",
       "1                 22.82                                 77.37            5\n",
       "2                 34.54                                 82.05            4\n",
       "3                 15.36                                 80.34            3\n",
       "4                  7.52                                 80.46            6"
      ]
     },
     "execution_count": 41,
     "metadata": {},
     "output_type": "execute_result"
    }
   ],
   "source": [
    "sub1 = Dengue[['precipitation_amt_mm', 'reanalysis_relative_humidity_percent', 'total_cases']].dropna()\n",
    "sub1.head()"
   ]
  },
  {
   "cell_type": "code",
   "execution_count": 42,
   "metadata": {},
   "outputs": [
    {
     "data": {
      "text/html": [
       "<div>\n",
       "<style scoped>\n",
       "    .dataframe tbody tr th:only-of-type {\n",
       "        vertical-align: middle;\n",
       "    }\n",
       "\n",
       "    .dataframe tbody tr th {\n",
       "        vertical-align: top;\n",
       "    }\n",
       "\n",
       "    .dataframe thead th {\n",
       "        text-align: right;\n",
       "    }\n",
       "</style>\n",
       "<table border=\"1\" class=\"dataframe\">\n",
       "  <thead>\n",
       "    <tr style=\"text-align: right;\">\n",
       "      <th></th>\n",
       "      <th>precipitation_amt_mm</th>\n",
       "      <th>reanalysis_relative_humidity_percent</th>\n",
       "      <th>total_cases</th>\n",
       "      <th>precipitation_amt_mm_c</th>\n",
       "      <th>reanalysis_relative_humidity_percent_c</th>\n",
       "      <th>total_cases_c</th>\n",
       "    </tr>\n",
       "  </thead>\n",
       "  <tbody>\n",
       "    <tr>\n",
       "      <th>0</th>\n",
       "      <td>12.42</td>\n",
       "      <td>73.37</td>\n",
       "      <td>4</td>\n",
       "      <td>-32.16</td>\n",
       "      <td>-8.28</td>\n",
       "      <td>-21.58</td>\n",
       "    </tr>\n",
       "    <tr>\n",
       "      <th>1</th>\n",
       "      <td>22.82</td>\n",
       "      <td>77.37</td>\n",
       "      <td>5</td>\n",
       "      <td>-21.76</td>\n",
       "      <td>-4.27</td>\n",
       "      <td>-20.58</td>\n",
       "    </tr>\n",
       "    <tr>\n",
       "      <th>2</th>\n",
       "      <td>34.54</td>\n",
       "      <td>82.05</td>\n",
       "      <td>4</td>\n",
       "      <td>-10.04</td>\n",
       "      <td>0.41</td>\n",
       "      <td>-21.58</td>\n",
       "    </tr>\n",
       "    <tr>\n",
       "      <th>3</th>\n",
       "      <td>15.36</td>\n",
       "      <td>80.34</td>\n",
       "      <td>3</td>\n",
       "      <td>-29.22</td>\n",
       "      <td>-1.30</td>\n",
       "      <td>-22.58</td>\n",
       "    </tr>\n",
       "    <tr>\n",
       "      <th>4</th>\n",
       "      <td>7.52</td>\n",
       "      <td>80.46</td>\n",
       "      <td>6</td>\n",
       "      <td>-37.06</td>\n",
       "      <td>-1.18</td>\n",
       "      <td>-19.58</td>\n",
       "    </tr>\n",
       "  </tbody>\n",
       "</table>\n",
       "</div>"
      ],
      "text/plain": [
       "   precipitation_amt_mm  reanalysis_relative_humidity_percent  total_cases  \\\n",
       "0                 12.42                                 73.37            4   \n",
       "1                 22.82                                 77.37            5   \n",
       "2                 34.54                                 82.05            4   \n",
       "3                 15.36                                 80.34            3   \n",
       "4                  7.52                                 80.46            6   \n",
       "\n",
       "   precipitation_amt_mm_c  reanalysis_relative_humidity_percent_c  \\\n",
       "0                  -32.16                                   -8.28   \n",
       "1                  -21.76                                   -4.27   \n",
       "2                  -10.04                                    0.41   \n",
       "3                  -29.22                                   -1.30   \n",
       "4                  -37.06                                   -1.18   \n",
       "\n",
       "   total_cases_c  \n",
       "0         -21.58  \n",
       "1         -20.58  \n",
       "2         -21.58  \n",
       "3         -22.58  \n",
       "4         -19.58  "
      ]
     },
     "execution_count": 42,
     "metadata": {},
     "output_type": "execute_result"
    }
   ],
   "source": [
    "sub1['precipitation_amt_mm_c'] = (sub1['precipitation_amt_mm'] - sub1['precipitation_amt_mm'].mean())\n",
    "sub1['reanalysis_relative_humidity_percent_c'] = (sub1['reanalysis_relative_humidity_percent'] - sub1['reanalysis_relative_humidity_percent'].mean())\n",
    "sub1['total_cases_c'] = (sub1['total_cases'] - sub1['total_cases'].mean())\n",
    "\n",
    "sub1.head()"
   ]
  },
  {
   "cell_type": "markdown",
   "metadata": {},
   "source": [
    "\n",
    "# Scatter plot between each explantory variable and response variable (y=total_cases)"
   ]
  },
  {
   "cell_type": "code",
   "execution_count": 57,
   "metadata": {},
   "outputs": [
    {
     "data": {
      "text/plain": [
       "Text(0, 0.5, 'Total Cases')"
      ]
     },
     "execution_count": 57,
     "metadata": {},
     "output_type": "execute_result"
    },
    {
     "data": {
      "image/png": "[encoded data removed]",
      "text/plain": [
       "<Figure size 432x288 with 1 Axes>"
      ]
     },
     "metadata": {
      "needs_background": "light"
     },
     "output_type": "display_data"
    }
   ],
   "source": [
    "plt.figure()\n",
    "scat1 = sns.regplot(x=\"precipitation_amt_mm_c\", y=\"total_cases_c\", order=2, data=sub1)\n",
    "plt.xlabel('Total precipitation')\n",
    "plt.ylabel('Total Cases')"
   ]
  },
  {
   "cell_type": "code",
   "execution_count": 58,
   "metadata": {},
   "outputs": [
    {
     "data": {
      "text/plain": [
       "Text(0, 0.5, 'Total Cases')"
      ]
     },
     "execution_count": 58,
     "metadata": {},
     "output_type": "execute_result"
    },
    {
     "data": {
      "image/png": "[encoded data removed]",
      "text/plain": [
       "<Figure size 432x288 with 1 Axes>"
      ]
     },
     "metadata": {
      "needs_background": "light"
     },
     "output_type": "display_data"
    }
   ],
   "source": [
    "plt.figure()\n",
    "scat1 = sns.regplot(x=\"reanalysis_relative_humidity_percent_c\", y=\"total_cases_c\", order=2, data=sub1)\n",
    "plt.xlabel('Mean relative humidity')\n",
    "plt.ylabel('Total Cases')"
   ]
  },
  {
   "cell_type": "markdown",
   "metadata": {
    "collapsed": true
   },
   "source": [
    "# Correlation between each explantory variable and response variable (y=total_cases)"
   ]
  },
  {
   "cell_type": "code",
   "execution_count": 55,
   "metadata": {},
   "outputs": [
    {
     "name": "stdout",
     "output_type": "stream",
     "text": [
      "association between Total precipitation and total cases\n",
      "(-0.03126323102181133, 0.2480416054969743)\n"
     ]
    }
   ],
   "source": [
    "sub2 = sub1.dropna()\n",
    "print ('association between Total precipitation and total cases')\n",
    "print (scipy.stats.pearsonr(sub2['precipitation_amt_mm'], sub2['total_cases']))"
   ]
  },
  {
   "cell_type": "code",
   "execution_count": 56,
   "metadata": {},
   "outputs": [
    {
     "name": "stdout",
     "output_type": "stream",
     "text": [
      "association between Mean relative humidity and total cases\n",
      "(-0.11201032727264322, 3.315574020772927e-05)\n"
     ]
    }
   ],
   "source": [
    "print ('association between Mean relative humidity and total cases')\n",
    "print (scipy.stats.pearsonr(sub2['reanalysis_relative_humidity_percent'], sub2['total_cases']))"
   ]
  },
  {
   "cell_type": "markdown",
   "metadata": {},
   "source": [
    "# Regression Analysis"
   ]
  },
  {
   "cell_type": "code",
   "execution_count": 51,
   "metadata": {},
   "outputs": [
    {
     "name": "stdout",
     "output_type": "stream",
     "text": [
      "                            OLS Regression Results                            \n",
      "==============================================================================\n",
      "Dep. Variable:          total_cases_c   R-squared:                       0.013\n",
      "Model:                            OLS   Adj. R-squared:                  0.011\n",
      "Method:                 Least Squares   F-statistic:                     8.668\n",
      "Date:                Mon, 21 Sep 2020   Prob (F-statistic):           0.000182\n",
      "Time:                        00:46:06   Log-Likelihood:                -7124.6\n",
      "No. Observations:                1367   AIC:                         1.426e+04\n",
      "Df Residuals:                    1364   BIC:                         1.427e+04\n",
      "Df Model:                           2                                         \n",
      "Covariance Type:            nonrobust                                         \n",
      "==========================================================================================================\n",
      "                                             coef    std err          t      P>|t|      [0.025      0.975]\n",
      "----------------------------------------------------------------------------------------------------------\n",
      "Intercept                                 -0.0288      1.265     -0.023      0.982      -2.511       2.453\n",
      "I(precipitation_amt_mm_c ** 2)          1.504e-05      0.000      0.073      0.942      -0.000       0.000\n",
      "reanalysis_relative_humidity_percent_c    -0.7292      0.175     -4.158      0.000      -1.073      -0.385\n",
      "==============================================================================\n",
      "Omnibus:                     1434.523   Durbin-Watson:                   0.081\n",
      "Prob(Omnibus):                  0.000   Jarque-Bera (JB):            75580.025\n",
      "Skew:                           5.179   Prob(JB):                         0.00\n",
      "Kurtosis:                      37.923   Cond. No.                     6.47e+03\n",
      "==============================================================================\n",
      "\n",
      "Warnings:\n",
      "[1] Standard Errors assume that the covariance matrix of the errors is correctly specified.\n",
      "[2] The condition number is large, 6.47e+03. This might indicate that there are\n",
      "strong multicollinearity or other numerical problems.\n"
     ]
    }
   ],
   "source": [
    "reg1 = smf.ols('total_cases_c ~  I(precipitation_amt_mm_c**2) + reanalysis_relative_humidity_percent_c', data=sub1).fit()\n",
    "print (reg1.summary())"
   ]
  },
  {
   "cell_type": "markdown",
   "metadata": {},
   "source": [
    "# qq plot "
   ]
  },
  {
   "cell_type": "code",
   "execution_count": 61,
   "metadata": {},
   "outputs": [
    {
     "data": {
      "image/png": "[encoded data removed]",
      "text/plain": [
       "<Figure size 432x288 with 1 Axes>"
      ]
     },
     "metadata": {
      "needs_background": "light"
     },
     "output_type": "display_data"
    }
   ],
   "source": [
    "import statsmodels.api as sm\n",
    "fig1=sm.qqplot(reg1.resid, line='r')"
   ]
  },
  {
   "cell_type": "markdown",
   "metadata": {},
   "source": [
    "# standardized residual plots"
   ]
  },
  {
   "cell_type": "code",
   "execution_count": 53,
   "metadata": {},
   "outputs": [
    {
     "data": {
      "text/plain": [
       "Text(0.5, 0, 'Observation Number')"
      ]
     },
     "execution_count": 53,
     "metadata": {},
     "output_type": "execute_result"
    },
    {
     "data": {
      "image/png": "[encoded data removed]",
      "text/plain": [
       "<Figure size 432x288 with 1 Axes>"
      ]
     },
     "metadata": {
      "needs_background": "light"
     },
     "output_type": "display_data"
    }
   ],
   "source": [
    "stdres=pd.DataFrame(reg1.resid_pearson)\n",
    "\n",
    "plt.figure()\n",
    "plt.plot(stdres, 'o', ls='None')\n",
    "l = plt.axhline(y=0, color='r')\n",
    "plt.ylabel('Standardized Residual')\n",
    "plt.xlabel('Observation Number')"
   ]
  },
  {
   "cell_type": "markdown",
   "metadata": {},
   "source": [
    "# percentage of observations over 2 standardized deviation"
   ]
  },
  {
   "cell_type": "code",
   "execution_count": 62,
   "metadata": {},
   "outputs": [
    {
     "name": "stdout",
     "output_type": "stream",
     "text": [
      "3.2918800292611556\n"
     ]
    }
   ],
   "source": [
    "percentage_over2sd = (np.count_nonzero( stdres[0] > 2) + np.count_nonzero( stdres[0] < -2))/len(stdres)*100\n",
    "print (percentage_over2sd)"
   ]
  },
  {
   "cell_type": "markdown",
   "metadata": {},
   "source": [
    "# percentage of observations over 2.5 standardized deviation"
   ]
  },
  {
   "cell_type": "code",
   "execution_count": 63,
   "metadata": {},
   "outputs": [
    {
     "name": "stdout",
     "output_type": "stream",
     "text": [
      "2.3408924652523777\n"
     ]
    }
   ],
   "source": [
    "percentage_over2_5sd = (np.count_nonzero( stdres[0] > 2.5) + np.count_nonzero( stdres[0] < -2.5))/len(stdres)*100\n",
    "print (percentage_over2_5sd)"
   ]
  },
  {
   "cell_type": "code",
   "execution_count": null,
   "metadata": {},
   "outputs": [],
   "source": []
  }
 ],
 "metadata": {
  "kernelspec": {
   "display_name": "Python 3",
   "language": "python",
   "name": "python3"
  },
  "language_info": {
   "codemirror_mode": {
    "name": "ipython",
    "version": 3
   },
   "file_extension": ".py",
   "mimetype": "text/x-python",
   "name": "python",
   "nbconvert_exporter": "python",
   "pygments_lexer": "ipython3",
   "version": "3.7.6"
  }
 },
 "nbformat": 4,
 "nbformat_minor": 2
}
